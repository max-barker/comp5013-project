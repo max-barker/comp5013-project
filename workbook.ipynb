{
  "cells": [
    {
      "attachments": {},
      "cell_type": "markdown",
      "metadata": {},
      "source": [
        "# Titanic Dataset\n",
        "\n",
        "We started with the Titanic dataset from Kaggle. The dataset contains 891 rows and 12 columns. The columns are as follows:\n",
        "\n",
        "- PassengerId: Unique ID of the passenger\n",
        "- Survived: Whether the passenger survived or not (0 = No, 1 = Yes)\n",
        "- Pclass: Ticket class (1 = 1st, 2 = 2nd, 3 = 3rd)\n",
        "- Sex: Sex of the passenger (male or female)\n",
        "- Age: Age of the passenger\n",
        "- SibSp: Number of siblings/spouses aboard the Titanic\n",
        "- Parch: Number of parents/children aboard the Titanic\n",
        "- Ticket: Ticket number\n",
        "- Fare: Passenger fare\n",
        "- Cabin: Cabin number\n",
        "- Embarked: Port of embarkation (C = Cherbourg, Q = Queenstown, S = Southampton)\n",
        "\n",
        "Noteably, the 'Survived' column is the target variable and the remaining columns are the features. Additionally, Age in the data is fractional if less than 1. If the age is estimated, is it in the form of xx.5. Sibsp and Parch are the number of siblings/spouses and parents/children aboard the Titanic respectively."
      ]
    },
    {
      "attachments": {},
      "cell_type": "markdown",
      "metadata": {},
      "source": [
        "## Library Imports"
      ]
    },
    {
      "cell_type": "code",
      "execution_count": null,
      "metadata": {
        "id": "IyTG4SAoqi3E"
      },
      "outputs": [],
      "source": [
        "import pandas as pd\n",
        "import numpy as np\n",
        "import matplotlib.pyplot as plt\n",
        "import matplotlib.ticker as mtick\n",
        "import seaborn as sns\n",
        "import shap\n",
        "import statsmodels.api as sm\n",
        "\n",
        "from sklearn.linear_model import LogisticRegression\n",
        "from sklearn.neighbors import KNeighborsClassifier\n",
        "from sklearn.tree import DecisionTreeClassifier\n",
        "from sklearn.naive_bayes import GaussianNB\n",
        "from sklearn.svm import LinearSVC\n",
        "from sklearn.neural_network import MLPClassifier\n",
        "from sklearn.metrics import confusion_matrix, accuracy_score, class_likelihood_ratios, RocCurveDisplay, DetCurveDisplay, PrecisionRecallDisplay\n",
        "from sklearn.decomposition import PCA\n",
        "from sklearn.model_selection import GridSearchCV\n",
        "from sklearn_pandas import DataFrameMapper\n",
        "from shap import LinearExplainer, KernelExplainer, Explanation\n",
        "from scipy.stats import pearsonr\n",
        "import matplotlib.gridspec as gridspec\n"
      ]
    },
    {
      "attachments": {},
      "cell_type": "markdown",
      "metadata": {},
      "source": [
        "## Data Cleaning and Feature Engineering"
      ]
    },
    {
      "cell_type": "code",
      "execution_count": null,
      "metadata": {
        "id": "_uOU-F2oql7n"
      },
      "outputs": [],
      "source": [
        "df_titanic_raw = pd.read_csv('titanic/train.csv')"
      ]
    },
    {
      "cell_type": "code",
      "execution_count": null,
      "metadata": {
        "id": "L0itOBfhqrY8"
      },
      "outputs": [],
      "source": [
        "df_titanic_raw = df_titanic_raw[(df_titanic_raw['Age'].notna())  & (df_titanic_raw['Fare'].notna()) & (df_titanic_raw['Embarked'].notna())]\n",
        "df_titanic_raw = df_titanic_raw.drop(['PassengerId', 'Name', 'Ticket'],axis=1)"
      ]
    },
    {
      "cell_type": "code",
      "execution_count": null,
      "metadata": {
        "id": "_yxJ2a0pq544"
      },
      "outputs": [],
      "source": [
        "df_titanic_raw['Sex'].replace(['male', 'female'], [1, 0], inplace=True)\n",
        "df_titanic_raw['Embarked'].replace(['C', 'Q', 'S'], [0, 1, 2], inplace=True)\n",
        "df_titanic_raw = df_titanic_raw.reset_index(drop=True)\n",
        "df_titanic_raw"
      ]
    },
    {
      "cell_type": "code",
      "execution_count": null,
      "metadata": {},
      "outputs": [],
      "source": [
        "df_titanic_raw['Deck'] = df_titanic_raw['Cabin'].map(lambda x: x[0] if x is not np.nan else 'U')\n",
        "df_titanic_raw['Deck'].replace(['A', 'B', 'C', 'D', 'E', 'F', 'G', 'T', 'U'], [0, 1, 2, 3, 4, 5, 6, 7, 8], inplace=True)\n",
        "df_titanic_raw['Age_Group'] = df_titanic_raw['Age'].map(lambda x: 0 if x < 18 else 1)\n",
        "df_titanic_engineered = df_titanic_raw.drop(['Cabin'], axis=1)\n",
        "df_titanic_engineered['Family_Size']=df_titanic_raw['SibSp'] + df_titanic_raw['Parch']\n",
        "df_titanic_engineered['Fare_Per_Person']=df_titanic_engineered['Fare'] / (df_titanic_engineered['Family_Size'] + 1)\n",
        "df_titanic = df_titanic_engineered\n",
        "\n",
        "survived_labels = ['No', 'Yes']\n",
        "age_labels = ['Child', 'Adult']\n",
        "class_labels = ['1st', '2nd', '3rd']\n",
        "embarked_labels = ['Cherbourg', 'Queenstown', 'Southampton']\n",
        "sex_labels = ['Female', 'Male']\n",
        "deck_labels = ['A', 'B', 'C', 'D', 'E', 'F', 'G', 'T', 'U']\n",
        "\n",
        "df_titanic"
      ]
    },
    {
      "cell_type": "code",
      "execution_count": null,
      "metadata": {},
      "outputs": [],
      "source": [
        "plt.figure(figsize=(10, 5))\n",
        "pca = PCA(n_components=2)\n",
        "pca.fit(df_titanic)\n",
        "pca_df = pd.DataFrame(pca.transform(df_titanic), columns=['PC1', 'PC2'])\n",
        "pca_df['Survived'] = df_titanic['Survived']\n",
        "\n",
        "jg = sns.jointplot(data=pca_df, x=\"PC1\", y=\"PC2\", hue=\"Survived\", palette='coolwarm')\n",
        "jg.fig.subplots_adjust(top=0.95)\n",
        "jg.fig.suptitle('2-D Principal Component Analysis of Titanic Dataset')\n",
        "ax = plt.gca()\n",
        "handles, _ = ax.get_legend_handles_labels()\n",
        "ax.legend(handles=handles, labels=survived_labels, title='Survived?')\n",
        "\n",
        "\n",
        "fig, ax0 = plt.subplots(figsize=(10, 5))\n",
        "\n",
        "ax0.set_title('Titanic Attributes Correlation Heatmap')\n",
        "corr = df_titanic.corr()\n",
        "sns.heatmap(ax=ax0, data=round(corr, 2), annot=True, cmap=\"coolwarm\", fmt='.2f')\n",
        "\n",
        "dfcols = pd.DataFrame(columns=df_titanic.columns)\n",
        "pvalues = dfcols.transpose().join(dfcols, how='outer')\n",
        "for r in df_titanic.columns:\n",
        "    for c in df_titanic.columns:\n",
        "        tmp = df_titanic[df_titanic[r].notnull() & df_titanic[c].notnull()]\n",
        "        pvalues[r][c] = round(pearsonr(tmp[r], tmp[c])[1], 4)\n",
        "\n",
        "print(pvalues['Survived'].sort_values())"
      ]
    },
    {
      "cell_type": "code",
      "execution_count": null,
      "metadata": {},
      "outputs": [],
      "source": [
        "def percentage_above_bar_relative_to_xgroup(ax, rotation=0):\n",
        "    all_heights = [[p.get_height() for p in bars] for bars in ax.containers]\n",
        "    for bars in ax.containers:\n",
        "        for i, p in enumerate(bars):\n",
        "            total = sum(xgroup[i] for xgroup in all_heights)\n",
        "            percentage = f'{(100 * p.get_height() / total) :.1f}%'\n",
        "            ax.annotate(percentage, (p.get_x() + p.get_width() / 2, p.get_height()), size=11, ha='center', va='bottom', rotation=rotation)"
      ]
    },
    {
      "cell_type": "code",
      "execution_count": null,
      "metadata": {},
      "outputs": [],
      "source": [
        "fig, ((ax0, ax1), (ax2, ax3)) = plt.subplots(nrows=2, ncols=2, tight_layout=True, figsize=(10, 10))\n",
        "\n",
        "ax0.set_title('Survival by Age Group')\n",
        "sns.countplot(ax=ax0, data=df_titanic, x=\"Age_Group\", hue=\"Survived\")\n",
        "percentage_above_bar_relative_to_xgroup(ax0)\n",
        "ax0.set_xticklabels(age_labels)\n",
        "ax0.legend(survived_labels, title='Survived?')\n",
        "\n",
        "ax1.set_title('Survival by Age')\n",
        "sns.histplot(ax=ax1, data=df_titanic, x=\"Age\", hue=\"Survived\", multiple=\"stack\")\n",
        "\n",
        "ax2.set_title('Survival by Sex')\n",
        "sns.countplot(ax=ax2, data=df_titanic, x=\"Sex\", hue=\"Survived\")\n",
        "percentage_above_bar_relative_to_xgroup(ax2)\n",
        "ax2.set_xticklabels(sex_labels)\n",
        "ax2.legend(survived_labels, title='Survived?')\n",
        "\n",
        "ax3.set_title('Comparison of Age and Sex by Survival')\n",
        "sns.boxplot(ax=ax3, data=df_titanic, x=\"Sex\", y=\"Age\", hue=\"Survived\")\n",
        "percentage_above_bar_relative_to_xgroup(ax3)\n",
        "ax3.set_xticklabels(sex_labels)\n",
        "handles, _ = ax3.get_legend_handles_labels()\n",
        "ax3.legend(handles=handles, labels=survived_labels, title='Survived?')\n"
      ]
    },
    {
      "cell_type": "code",
      "execution_count": null,
      "metadata": {},
      "outputs": [],
      "source": [
        "fig, (ax0, ax1) = plt.subplots(nrows=1, ncols=2, tight_layout=True, figsize=(10, 5))\n",
        "\n",
        "ax0.set_title('Class by Embarked Location')\n",
        "sns.countplot(ax=ax0, data=df_titanic, x=\"Embarked\", hue=\"Pclass\")\n",
        "percentage_above_bar_relative_to_xgroup(ax0)\n",
        "ax0.set_xticklabels(embarked_labels, rotation=45)\n",
        "ax0.set_xlabel('Embarked Location')\n",
        "ax0.legend(class_labels, title='Class')\n",
        "\n",
        "ax1.set_title('Survival by Embarked Location')\n",
        "sns.countplot(ax=ax1, data=df_titanic, x=\"Embarked\", hue=\"Survived\")\n",
        "percentage_above_bar_relative_to_xgroup(ax1)\n",
        "ax1.set_xticklabels(embarked_labels, rotation=45)\n",
        "ax1.set_xlabel('Embarked Location')\n",
        "ax1.legend(survived_labels, title='Survived?')"
      ]
    },
    {
      "cell_type": "code",
      "execution_count": null,
      "metadata": {},
      "outputs": [],
      "source": [
        "fig = plt.figure(tight_layout=True, figsize=(10, 15))\n",
        "gs = gridspec.GridSpec(nrows=3, ncols=2)\n",
        "ax0 = fig.add_subplot(gs[0, 0])\n",
        "ax1 = fig.add_subplot(gs[0, 1])\n",
        "ax2 = fig.add_subplot(gs[1, :])\n",
        "ax3 = fig.add_subplot(gs[2, :])\n",
        "\n",
        "ax0.set_title('Fare by Class')\n",
        "sns.boxplot(ax=ax0, data=df_titanic, x=\"Pclass\", y=\"Fare\")\n",
        "percentage_above_bar_relative_to_xgroup(ax0, 90)\n",
        "ax0.set_xticklabels(class_labels)\n",
        "ax0.set_xlabel('Class')\n",
        "ax0.set_ylabel('Fare')\n",
        "\n",
        "ax1.set_title('Personal Fare by Deck')\n",
        "sns.boxplot(ax=ax1, data=df_titanic, x=\"Deck\", y=\"Fare_Per_Person\", order=[0, 1, 2, 3, 4, 5, 6, 7, 8])\n",
        "ax1.set_xticklabels(deck_labels)\n",
        "ax1.set_xlabel('Deck')\n",
        "ax1.set_ylabel('Personal Fare')\n",
        "\n",
        "ax2.set_title('Deck by Class')\n",
        "sns.countplot(ax=ax2, data=df_titanic, x=\"Deck\", hue=\"Pclass\", order=[0, 1, 2, 3, 4, 5, 6, 7, 8])\n",
        "percentage_above_bar_relative_to_xgroup(ax2, 90)\n",
        "ax2.set_xticklabels(deck_labels)\n",
        "ax2.set_xlabel('Deck')\n",
        "ax2.legend(class_labels, title='Class')\n",
        "\n",
        "ax3.set_title('Survival by Deck')\n",
        "sns.countplot(ax=ax3, data=df_titanic, x=\"Deck\", hue=\"Survived\", order=[0, 1, 2, 3, 4, 5, 6, 7, 8])\n",
        "percentage_above_bar_relative_to_xgroup(ax3, 90)\n",
        "ax3.set_xticklabels(deck_labels)\n",
        "ax3.set_xlabel('Deck')\n",
        "ax3.legend(survived_labels, title='Survived?')"
      ]
    },
    {
      "cell_type": "code",
      "execution_count": null,
      "metadata": {},
      "outputs": [],
      "source": [
        "fig, ((ax0, ax1), (ax2, ax3)) = plt.subplots(nrows=2, ncols=2, tight_layout=True, figsize=(10, 10))\n",
        "\n",
        "ax0.set_title('Fare by Family Size')\n",
        "sns.boxplot(ax=ax0, data=df_titanic, x=\"Family_Size\", y=\"Fare\")\n",
        "ax0.set_xlabel('Family Size')\n",
        "ax0.set_ylabel('Fare')\n",
        "\n",
        "ax1.set_title('Family Size by Class')\n",
        "sns.countplot(ax=ax1, data=df_titanic, x=\"Pclass\", hue=\"Family_Size\")\n",
        "percentage_above_bar_relative_to_xgroup(ax1, 90)\n",
        "ax1.set_xlabel('Class')\n",
        "\n",
        "ax2.set_title('Survival by Family Size')\n",
        "sns.countplot(ax=ax2, data=df_titanic, x=\"Family_Size\", hue=\"Survived\")\n",
        "percentage_above_bar_relative_to_xgroup(ax2, 90)\n",
        "ax2.set_xlabel('Family Size')\n",
        "ax2.legend(survived_labels, title='Survived?')\n",
        "\n",
        "ax3.set_title('Survival by Class')\n",
        "sns.countplot(ax=ax3, data=df_titanic, x=\"Pclass\", hue=\"Survived\")\n",
        "percentage_above_bar_relative_to_xgroup(ax3)\n",
        "ax3.set_xlabel('Class')\n",
        "ax3.legend(survived_labels, title='Survived?')\n"
      ]
    },
    {
      "attachments": {},
      "cell_type": "markdown",
      "metadata": {},
      "source": [
        "## Dataset Splitting"
      ]
    },
    {
      "cell_type": "code",
      "execution_count": null,
      "metadata": {},
      "outputs": [],
      "source": [
        "X_train = df_titanic.drop('Survived',axis=1)\n",
        "y_train = df_titanic.Survived\n",
        "\n",
        "df_titanic_test = pd.read_csv('titanic/test.csv')\n",
        "df_titanic_test_labels = pd.read_csv('titanic/gender_submission.csv')\n",
        "df_titanic_test = df_titanic_test.merge(df_titanic_test_labels, on='PassengerId')\n",
        "\n",
        "df_titanic_test = df_titanic_test.drop(['PassengerId', 'Name', 'Ticket'], axis=1)\n",
        "df_titanic_test = df_titanic_test[(df_titanic_test['Age'].notna())  & (df_titanic_test['Fare'].notna()) & (df_titanic_test['Embarked'].notna())]   \n",
        "df_titanic_test['Sex'].replace(['male', 'female'], [1, 0], inplace=True)\n",
        "df_titanic_test['Embarked'].replace(['C', 'Q', 'S'], [0, 1, 2], inplace=True)\n",
        "df_titanic_test = df_titanic_test.reset_index(drop=True)\n",
        "df_titanic_test['Deck'] = df_titanic_test['Cabin'].map(lambda x: x[0] if x is not np.nan else 'U')\n",
        "df_titanic_test['Deck'].replace(['A', 'B', 'C', 'D', 'E', 'F', 'G', 'T', 'U'], [0, 1, 2, 3, 4, 5, 6, 7, 8], inplace=True)\n",
        "df_titanic_test['Age_Group'] = df_titanic_test['Age'].map(lambda x: 0 if x < 18 else 1)\n",
        "df_titanic_test = df_titanic_test.drop(['Cabin'], axis=1)\n",
        "df_titanic_test['Family_Size']=df_titanic_test['SibSp'] + df_titanic_test['Parch']\n",
        "df_titanic_test['Fare_Per_Person']=df_titanic_test['Fare'] / (df_titanic_test['Family_Size'] + 1)\n",
        "\n",
        "X_test = df_titanic_test.drop('Survived',axis=1)\n",
        "y_test = df_titanic_test.Survived"
      ]
    },
    {
      "attachments": {},
      "cell_type": "markdown",
      "metadata": {},
      "source": [
        "## Naive Bayes"
      ]
    },
    {
      "cell_type": "code",
      "execution_count": null,
      "metadata": {},
      "outputs": [],
      "source": [
        "model = GaussianNB()\n",
        "model.fit(X_train,y_train)\n",
        "y_pred = model.predict(X_test)\n",
        "nb_acc = accuracy_score(y_test, y_pred)\n",
        "nb_ratio = class_likelihood_ratios(y_test, y_pred)\n",
        "nb_roc = RocCurveDisplay.from_estimator(model, X_test, y_test)\n",
        "nb_det = DetCurveDisplay.from_estimator(model, X_test, y_test)\n",
        "nb_pr = PrecisionRecallDisplay.from_estimator(model, X_test, y_test)\n",
        "\n",
        "print(nb_acc)"
      ]
    },
    {
      "attachments": {},
      "cell_type": "markdown",
      "metadata": {},
      "source": [
        "## Logistic Regression"
      ]
    },
    {
      "cell_type": "code",
      "execution_count": null,
      "metadata": {
        "id": "xLhNSLUXr6WM"
      },
      "outputs": [],
      "source": [
        "model = LogisticRegression()\n",
        "model.fit(X_train, y_train)\n",
        "y_pred = model.predict(X_test)\n",
        "lr_acc = accuracy_score(y_test, y_pred)\n",
        "lr_ratio = class_likelihood_ratios(y_test, y_pred)\n",
        "lr_roc = RocCurveDisplay.from_estimator(model, X_test, y_test)\n",
        "lr_det = DetCurveDisplay.from_estimator(model, X_test, y_test)\n",
        "lr_pr = PrecisionRecallDisplay.from_estimator(model, X_test, y_test)\n",
        "\n",
        "print(lr_acc)"
      ]
    },
    {
      "cell_type": "code",
      "execution_count": null,
      "metadata": {},
      "outputs": [],
      "source": [
        "plt.figure(figsize=(5, 5))\n",
        "plt.barh(X_train.columns, model.coef_[0])\n",
        "plt.title(\"Logistic regression Coefficient values\")\n",
        "plt.show()"
      ]
    },
    {
      "cell_type": "code",
      "execution_count": null,
      "metadata": {},
      "outputs": [],
      "source": [
        "explainer = shap.LinearExplainer(model, X_train.astype(float), feature_perturbation=\"interventional\")\n",
        "shap_values = explainer.shap_values(X_test.astype(float))\n",
        "shap.summary_plot(shap_values, X_test)\n",
        "shap.summary_plot(shap_values, X_train, plot_type=\"bar\")"
      ]
    },
    {
      "attachments": {},
      "cell_type": "markdown",
      "metadata": {},
      "source": [
        "## Decision Tree"
      ]
    },
    {
      "cell_type": "code",
      "execution_count": null,
      "metadata": {},
      "outputs": [],
      "source": [
        "model = DecisionTreeClassifier(random_state=0)\n",
        "model.fit(X_train,y_train)\n",
        "y_pred = model.predict(X_test)\n",
        "tree_acc = accuracy_score(y_test, y_pred)\n",
        "tree_ratio = class_likelihood_ratios(y_test, y_pred)\n",
        "tree_roc = RocCurveDisplay.from_estimator(model, X_test, y_test)\n",
        "tree_det = DetCurveDisplay.from_estimator(model, X_test, y_test)\n",
        "tree_pr = PrecisionRecallDisplay.from_estimator(model, X_test, y_test)\n",
        "\n",
        "print(tree_acc)"
      ]
    },
    {
      "cell_type": "code",
      "execution_count": null,
      "metadata": {},
      "outputs": [],
      "source": [
        "sorted_idx = model.feature_importances_.argsort()\n",
        "features = X_train.columns\n",
        "result = sorted(zip(features, model.feature_importances_), key = lambda x: x[1], reverse=False)\n",
        "plt.barh([x[0] for x in result], [x[1] for x in result])"
      ]
    },
    {
      "attachments": {},
      "cell_type": "markdown",
      "metadata": {},
      "source": [
        "## Nearest Neighbours"
      ]
    },
    {
      "cell_type": "code",
      "execution_count": null,
      "metadata": {},
      "outputs": [],
      "source": [
        "model = KNeighborsClassifier(n_neighbors=3)\n",
        "model.fit(X_train,y_train)\n",
        "y_pred = model.predict(X_test)\n",
        "knn_acc = accuracy_score(y_test, y_pred)\n",
        "knn_ratio = class_likelihood_ratios(y_test, y_pred)\n",
        "knn_roc = RocCurveDisplay.from_estimator(model, X_test, y_test)\n",
        "knn_det = DetCurveDisplay.from_estimator(model, X_test, y_test)\n",
        "knn_pr = PrecisionRecallDisplay.from_estimator(model, X_test, y_test)\n",
        "\n",
        "print(knn_acc)"
      ]
    },
    {
      "attachments": {},
      "cell_type": "markdown",
      "metadata": {},
      "source": [
        "## Support Vector Machine"
      ]
    },
    {
      "cell_type": "code",
      "execution_count": null,
      "metadata": {},
      "outputs": [],
      "source": [
        "model = LinearSVC()\n",
        "model.fit(X_train,y_train)\n",
        "y_pred = model.predict(X_test)\n",
        "svc_acc = accuracy_score(y_test, y_pred)\n",
        "svc_ratio = class_likelihood_ratios(y_test, y_pred)\n",
        "svc_roc = RocCurveDisplay.from_estimator(model, X_test, y_test)\n",
        "svc_det = DetCurveDisplay.from_estimator(model, X_test, y_test)\n",
        "svc_pr = PrecisionRecallDisplay.from_estimator(model, X_test, y_test)\n",
        "\n",
        "print(svc_acc)"
      ]
    },
    {
      "attachments": {},
      "cell_type": "markdown",
      "metadata": {},
      "source": [
        "## Neural Network"
      ]
    },
    {
      "cell_type": "code",
      "execution_count": null,
      "metadata": {},
      "outputs": [],
      "source": [
        "model = MLPClassifier()\n",
        "model.fit(X_train, y_train)  \n",
        "y_pred = model.predict(X_test)\n",
        "mlp_acc = accuracy_score(y_test, y_pred)\n",
        "mlp_ratio = class_likelihood_ratios(y_test, y_pred)\n",
        "mlp_roc = RocCurveDisplay.from_estimator(model, X_test, y_test)\n",
        "mlp_det = DetCurveDisplay.from_estimator(model, X_test, y_test)\n",
        "mlp_pr = PrecisionRecallDisplay.from_estimator(model, X_test, y_test)\n",
        "\n",
        "print(mlp_acc)"
      ]
    },
    {
      "cell_type": "code",
      "execution_count": null,
      "metadata": {},
      "outputs": [],
      "source": [
        "explainer = shap.KernelExplainer(model.predict, X_train)\n",
        "shap_values = explainer.shap_values(X_test, nsamples=100)\n",
        "shap.summary_plot(shap_values, X_test)\n",
        "\n",
        "exp = Explanation(shap_values, explainer.expected_value, data=X_test.values, feature_names=X_test.columns)\n",
        "shap.plots.waterfall(exp[0])"
      ]
    },
    {
      "attachments": {},
      "cell_type": "markdown",
      "metadata": {},
      "source": [
        "## Comparison Plots"
      ]
    },
    {
      "cell_type": "code",
      "execution_count": null,
      "metadata": {},
      "outputs": [],
      "source": [
        "fig, ax = plt.subplots(figsize=(10, 5))\n",
        "ax.set_title('ROC Curve')\n",
        "lr_roc.plot(ax=ax)\n",
        "tree_roc.plot(ax=ax)\n",
        "knn_roc.plot(ax=ax)\n",
        "nb_roc.plot(ax=ax)\n",
        "svc_roc.plot(ax=ax)\n",
        "mlp_roc.plot(ax=ax)\n",
        "\n",
        "fig, ax = plt.subplots(figsize=(10, 5))\n",
        "ax.set_title('DET Curve')\n",
        "lr_det.plot(ax=ax)\n",
        "tree_det.plot(ax=ax)\n",
        "knn_det.plot(ax=ax)\n",
        "nb_det.plot(ax=ax)\n",
        "svc_det.plot(ax=ax)\n",
        "mlp_det.plot(ax=ax)\n",
        "\n",
        "fig, ax = plt.subplots(figsize=(10, 5))\n",
        "ax.set_title('Precision-Recall Curve')\n",
        "lr_pr.plot(ax=ax)\n",
        "tree_pr.plot(ax=ax)\n",
        "knn_pr.plot(ax=ax)\n",
        "nb_pr.plot(ax=ax)\n",
        "svc_pr.plot(ax=ax)\n",
        "mlp_pr.plot(ax=ax)\n",
        "\n",
        "model_labels = ['Logistic Regression', 'Decision Tree', 'KNN', 'Naive Bayes', 'SVC', 'MLP']\n",
        "\n",
        "fig, ax = plt.subplots(figsize=(10, 5))\n",
        "ax.set_title('Accuracy')\n",
        "ax.bar(model_labels, [lr_acc, tree_acc, knn_acc, nb_acc, svc_acc, mlp_acc])\n",
        "ax.set_xlabel('Classifier')\n",
        "\n",
        "for bars in ax.containers:\n",
        "    ax.bar_label(bars)\n",
        "\n",
        "fig, (ax0, ax1) = plt.subplots(nrows=1, ncols=2, tight_layout=True,figsize=(10, 5))\n",
        "ax0.set_title('Positive Likelihood Ratio')\n",
        "ax0.bar(model_labels, [lr_ratio[0], tree_ratio[0], knn_ratio[0], nb_ratio[0], svc_ratio[0], mlp_ratio[0]])\n",
        "ax0.set_xticklabels(labels=model_labels, rotation=45)\n",
        "ax0.set_xlabel('Classifier')\n",
        "\n",
        "ax1.set_title('Negative Likelihood Ratio')\n",
        "ax1.bar(model_labels, [lr_ratio[1], tree_ratio[1], knn_ratio[1], nb_ratio[1], svc_ratio[1], mlp_ratio[1]])\n",
        "ax1.set_xticklabels(labels=model_labels, rotation=45)\n",
        "ax1.set_xlabel('Classifier')"
      ]
    },
    {
      "attachments": {},
      "cell_type": "markdown",
      "metadata": {},
      "source": [
        "## Hyperparameter Tuning"
      ]
    },
    {
      "attachments": {},
      "cell_type": "markdown",
      "metadata": {},
      "source": [
        "### Logistic Regression"
      ]
    },
    {
      "cell_type": "code",
      "execution_count": null,
      "metadata": {},
      "outputs": [],
      "source": [
        "model = LogisticRegression()\n",
        "\n",
        "parameter_space = {\n",
        "    'penalty': ['l1', 'l2'],\n",
        "    'C': [0.001, 0.01, 0.1, 1, 10, 100, 1000],\n",
        "    'solver': ['liblinear', 'saga'],\n",
        "    'max_iter': [100, 1000, 2500, 5000]\n",
        "}\n",
        "\n",
        "clf = GridSearchCV(model, parameter_space, n_jobs=-1, cv=5)\n",
        "clf.fit(X_train, y_train)\n",
        "\n",
        "print('Best parameters found:\\n', clf.best_params_)\n",
        "y_pred = clf.predict(X_test)\n",
        "opt_lr_acc = accuracy_score(y_test, y_pred)\n",
        "opt_lr_ratio = class_likelihood_ratios(y_test, y_pred)\n",
        "opt_lr_roc = RocCurveDisplay.from_estimator(clf, X_test, y_test)\n",
        "opt_lr_det = DetCurveDisplay.from_estimator(clf, X_test, y_test)\n",
        "opt_lr_pr = PrecisionRecallDisplay.from_estimator(clf, X_test, y_test)"
      ]
    },
    {
      "cell_type": "code",
      "execution_count": null,
      "metadata": {},
      "outputs": [],
      "source": [
        "fig, ax = plt.subplots(figsize=(10, 5))\n",
        "ax.set_title('Comparison of Optimal vs Default Logistic Regression ROC Curve')\n",
        "lr_roc.plot(ax=ax)\n",
        "opt_lr_roc.plot(ax=ax)\n",
        "\n",
        "fig, ax = plt.subplots(figsize=(10, 5))\n",
        "ax.set_title('Comparison of Optimal vs Default Logistic Regression DET Curve')\n",
        "lr_det.plot(ax=ax)\n",
        "opt_lr_det.plot(ax=ax)\n",
        "\n",
        "fig, ax = plt.subplots(figsize=(10, 5))\n",
        "ax.set_title('Comparison of Optimal vs Default Logistic Regression Precision-Recall Curve')\n",
        "lr_pr.plot(ax=ax)\n",
        "opt_lr_pr.plot(ax=ax)\n",
        "\n",
        "fig, ax = plt.subplots(figsize=(10, 5))\n",
        "ax.set_title('Comparison of Optimal vs Default Logistic Regression Accuracy')\n",
        "ax.bar(['Default', 'Optimal'], [lr_acc, opt_lr_acc])\n",
        "ax.set_xlabel('Classifier')\n",
        "\n",
        "fig, (ax0, ax1) = plt.subplots(nrows=2, ncols=1, tight_layout=True,figsize=(10, 5))\n",
        "ax0.set_title('Comparison of Optimal vs Default Logistic Regression Positive Likelihood Ratio')\n",
        "ax0.bar(['Default', 'Optimal'], [lr_ratio[0], opt_lr_ratio[0]])\n",
        "ax0.set_xlabel('Classifier')\n",
        "\n",
        "ax1.set_title('Comparison of Optimal vs Default Logistic Regression Negative Likelihood Ratio')\n",
        "ax1.bar(['Default', 'Optimal'], [lr_ratio[1], opt_lr_ratio[1]])\n",
        "ax1.set_xlabel('Classifier')"
      ]
    },
    {
      "attachments": {},
      "cell_type": "markdown",
      "metadata": {},
      "source": [
        "### Nerual Network"
      ]
    },
    {
      "cell_type": "code",
      "execution_count": null,
      "metadata": {},
      "outputs": [],
      "source": [
        "model = MLPClassifier()\n",
        "\n",
        "parameter_space = {\n",
        "    'hidden_layer_sizes': [(150,100,50), (120,80,40), (100,50,30), (10,30,10), (20,)],\n",
        "    'max_iter': [50, 100, 150],\n",
        "    'activation': ['tanh', 'relu'],\n",
        "    'solver': ['sgd', 'adam'],\n",
        "    'alpha': [0.0001, 0.05],\n",
        "    'learning_rate': ['constant','adaptive'],\n",
        "}\n",
        "\n",
        "clf = GridSearchCV(model, parameter_space, n_jobs=-1, cv=5)\n",
        "clf.fit(X_train, y_train)\n",
        "\n",
        "print('Best parameters found:\\n', clf.best_params_)\n",
        "y_pred = clf.predict(X_test)\n",
        "opt_mlp_acc = accuracy_score(y_test, y_pred)\n",
        "opt_mlp_ratio = class_likelihood_ratios(y_test, y_pred)\n",
        "opt_mlp_roc = RocCurveDisplay.from_estimator(clf, X_test, y_test)\n",
        "opt_mlp_det = DetCurveDisplay.from_estimator(clf, X_test, y_test)\n",
        "opt_mlp_pr = PrecisionRecallDisplay.from_estimator(clf, X_test, y_test)"
      ]
    },
    {
      "cell_type": "code",
      "execution_count": null,
      "metadata": {},
      "outputs": [],
      "source": [
        "fig, ax = plt.subplots(figsize=(10, 5))\n",
        "ax.set_title('Comparison of Optimal vs Default MLP ROC Curve')\n",
        "mlp_roc.plot(ax=ax)\n",
        "opt_mlp_roc.plot(ax=ax)\n",
        "\n",
        "fig, ax = plt.subplots(figsize=(10, 5))\n",
        "ax.set_title('Comparison of Optimal vs Default MLP DET Curve')\n",
        "mlp_det.plot(ax=ax)\n",
        "opt_mlp_det.plot(ax=ax)\n",
        "\n",
        "fig, ax = plt.subplots(figsize=(10, 5))\n",
        "ax.set_title('Comparison of Optimal vs Default MLP Precision-Recall Curve')\n",
        "mlp_pr.plot(ax=ax)\n",
        "opt_mlp_pr.plot(ax=ax)\n",
        "\n",
        "fig, ax = plt.subplots(figsize=(10, 5))\n",
        "ax.set_title('Comparison of Optimal vs Default MLP Accuracy')\n",
        "ax.bar(['Default', 'Optimal'], [mlp_acc, opt_mlp_acc])\n",
        "ax.set_xlabel('Classifier')\n",
        "\n",
        "fig, (ax0, ax1) = plt.subplots(nrows=2, ncols=1, tight_layout=True,figsize=(10, 5))\n",
        "ax0.set_title('Comparison of Optimal vs Default MLP Positive Likelihood Ratio')\n",
        "ax0.bar(['Default', 'Optimal'], [mlp_ratio[0], opt_mlp_ratio[0]])\n",
        "ax0.set_xlabel('Classifier')\n",
        "\n",
        "ax1.set_title('Comparison of Optimal vs Default MLP Negative Likelihood Ratio')\n",
        "ax1.bar(['Default', 'Optimal'], [mlp_ratio[1], opt_mlp_ratio[1]])\n",
        "ax1.set_xlabel('Classifier')\n"
      ]
    },
    {
      "attachments": {},
      "cell_type": "markdown",
      "metadata": {},
      "source": [
        "### Comaprison to Other Models"
      ]
    },
    {
      "cell_type": "code",
      "execution_count": null,
      "metadata": {},
      "outputs": [],
      "source": [
        "fig, ax = plt.subplots(figsize=(10, 5))\n",
        "ax.set_title('ROC Curve')\n",
        "lr_roc.plot(ax=ax)\n",
        "tree_roc.plot(ax=ax)\n",
        "knn_roc.plot(ax=ax)\n",
        "nb_roc.plot(ax=ax)\n",
        "svc_roc.plot(ax=ax)\n",
        "mlp_roc.plot(ax=ax)\n",
        "opt_lr_roc.plot(ax=ax)\n",
        "opt_mlp_roc.plot(ax=ax)\n",
        "\n",
        "fig, ax = plt.subplots(figsize=(10, 5))\n",
        "ax.set_title('DET Curve')\n",
        "lr_det.plot(ax=ax)\n",
        "tree_det.plot(ax=ax)\n",
        "knn_det.plot(ax=ax)\n",
        "nb_det.plot(ax=ax)\n",
        "svc_det.plot(ax=ax)\n",
        "mlp_det.plot(ax=ax)\n",
        "opt_lr_det.plot(ax=ax)\n",
        "opt_mlp_det.plot(ax=ax)\n",
        "\n",
        "fig, ax = plt.subplots(figsize=(10, 5))\n",
        "ax.set_title('Precision-Recall Curve')\n",
        "lr_pr.plot(ax=ax)\n",
        "tree_pr.plot(ax=ax)\n",
        "knn_pr.plot(ax=ax)\n",
        "nb_pr.plot(ax=ax)\n",
        "svc_pr.plot(ax=ax)\n",
        "mlp_pr.plot(ax=ax)\n",
        "opt_lr_pr.plot(ax=ax)\n",
        "opt_mlp_pr.plot(ax=ax)\n",
        "\n",
        "model_labels = ['Logistic Regression', 'Decision Tree', 'KNN', 'Naive Bayes', 'SVC', 'MLP', 'LR Optimal', 'MLP Optimal']\n",
        "\n",
        "fig, ax = plt.subplots(figsize=(10, 5))\n",
        "ax.set_title('Accuracy')\n",
        "ax.bar(model_labels, [lr_acc, tree_acc, knn_acc, nb_acc, svc_acc, mlp_acc, opt_lr_acc, opt_mlp_acc])\n",
        "ax.set_xlabel('Classifier')\n",
        "\n",
        "fig, (ax0, ax1) = plt.subplots(nrows=1, ncols=2, tight_layout=True,figsize=(10, 5))\n",
        "ax0.set_title('Positive Likelihood Ratio')\n",
        "ax0.bar(model_labels, [lr_ratio[0], tree_ratio[0], knn_ratio[0], nb_ratio[0], svc_ratio[0], mlp_ratio[0], opt_lr_ratio[0], opt_mlp_ratio[0]])\n",
        "ax0.set_xticklabels(labels=model_labels, rotation=45)\n",
        "ax0.set_xlabel('Classifier')\n",
        "\n",
        "ax1.set_title('Negative Likelihood Ratio')\n",
        "ax1.bar(model_labels, [lr_ratio[1], tree_ratio[1], knn_ratio[1], nb_ratio[1], svc_ratio[1], mlp_ratio[1], opt_lr_ratio[1], opt_mlp_ratio[1]])\n",
        "ax1.set_xticklabels(labels=model_labels, rotation=45)\n",
        "ax1.set_xlabel('Classifier')"
      ]
    }
  ],
  "metadata": {
    "colab": {
      "provenance": []
    },
    "kernelspec": {
      "display_name": "Python 3",
      "name": "python3"
    },
    "language_info": {
      "codemirror_mode": {
        "name": "ipython",
        "version": 3
      },
      "file_extension": ".py",
      "mimetype": "text/x-python",
      "name": "python",
      "nbconvert_exporter": "python",
      "pygments_lexer": "ipython3",
      "version": "3.10.5"
    }
  },
  "nbformat": 4,
  "nbformat_minor": 0
}
